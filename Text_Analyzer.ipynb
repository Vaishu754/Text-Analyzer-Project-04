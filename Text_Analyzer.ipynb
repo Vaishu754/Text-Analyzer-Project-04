{
  "nbformat": 4,
  "nbformat_minor": 0,
  "metadata": {
    "colab": {
      "provenance": []
    },
    "kernelspec": {
      "name": "python3",
      "display_name": "Python 3"
    },
    "language_info": {
      "name": "python"
    }
  },
  "cells": [
    {
      "cell_type": "code",
      "source": [
        "from collections import Counter"
      ],
      "metadata": {
        "id": "epGy5QmIUoun"
      },
      "execution_count": 4,
      "outputs": []
    },
    {
      "cell_type": "code",
      "source": [
        "import string"
      ],
      "metadata": {
        "id": "PaAILmShU2Ke"
      },
      "execution_count": 5,
      "outputs": []
    },
    {
      "cell_type": "code",
      "source": [
        "def text_analyzer(text):\n",
        "  text=text.strip()\n",
        "  char_count=len(text)\n",
        "  words=text.split()\n",
        "  word_count=len(words)\n",
        "  sentences=text.split('.')\n",
        "  sentences=[s for s in sentences if s.strip()!='']\n",
        "  sentences_count=len(sentences)\n",
        "  word_freq={}\n",
        "  for word in words:\n",
        "    word=word.lower().strip(\".,!?\")\n",
        "    if word in word_freq:\n",
        "        word_freq[word]+=1\n",
        "    else:\n",
        "        word_freq[word]=1\n",
        "  print(\"\\n---Text Analyzer---\")\n",
        "  print(f\"Total Characters (with spaces){char_count}\")\n",
        "  print(f\"Total words:{word_count}\")\n",
        "  print(f\"Total sentences:{sentences_count}\")\n",
        "  print(\"\\nWord Frequencies:\")\n",
        "  for word,freq in word_freq.items():\n",
        "    print(f\"{word}:{freq}\")\n",
        "\n",
        "if __name__==\"__main__\":\n",
        "  print(\"Welcome to Text Analyzer\")\n",
        "  user_text=\"Hello world.How are You.I am fine.\"\n",
        "  text_analyzer(user_text)"
      ],
      "metadata": {
        "colab": {
          "base_uri": "https://localhost:8080/"
        },
        "id": "jFueOzhvVo92",
        "outputId": "dd871ec6-4083-4b99-a61d-0aecbe78c25d"
      },
      "execution_count": 12,
      "outputs": [
        {
          "output_type": "stream",
          "name": "stdout",
          "text": [
            "Welcome to Text Analyzer\n",
            "\n",
            "---Text Analyzer---\n",
            "Total Characters (with spaces)34\n",
            "Total words:6\n",
            "Total sentences:3\n",
            "\n",
            "Word Frequencies:\n",
            "hello:1\n",
            "world.how:1\n",
            "are:1\n",
            "you.i:1\n",
            "am:1\n",
            "fine:1\n"
          ]
        }
      ]
    }
  ]
}